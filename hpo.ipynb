{
 "cells": [
  {
   "cell_type": "code",
   "execution_count": 7,
   "id": "51020a11-d767-4942-bbcc-d87b22b2fc09",
   "metadata": {},
   "outputs": [],
   "source": [
    "import os\n",
    "import pickle\n",
    "import click\n",
    "import mlflow\n",
    "import numpy as np\n",
    "from hyperopt import STATUS_OK, Trials, fmin, hp, tpe\n",
    "from hyperopt.pyll import scope\n",
    "from sklearn.ensemble import RandomForestRegressor\n",
    "from sklearn.metrics import root_mean_squared_error\n",
    "from sklearn.metrics import mean_squared_error"
   ]
  },
  {
   "cell_type": "code",
   "execution_count": 2,
   "id": "420c88bb-878d-4b19-90b7-1bc54768c2c7",
   "metadata": {},
   "outputs": [
    {
     "name": "stderr",
     "output_type": "stream",
     "text": [
      "2025/06/22 22:27:13 INFO mlflow.tracking.fluent: Experiment with name 'random-forest-hyperopt' does not exist. Creating a new experiment.\n"
     ]
    },
    {
     "data": {
      "text/plain": [
       "<Experiment: artifact_location='mlflow-artifacts:/559611738701900722', creation_time=1750595233626, experiment_id='559611738701900722', last_update_time=1750595233626, lifecycle_stage='active', name='random-forest-hyperopt', tags={}>"
      ]
     },
     "execution_count": 2,
     "metadata": {},
     "output_type": "execute_result"
    }
   ],
   "source": [
    "mlflow.set_tracking_uri(\"http://127.0.0.1:5000\")\n",
    "mlflow.set_experiment(\"random-forest-hyperopt\")"
   ]
  },
  {
   "cell_type": "code",
   "execution_count": 3,
   "id": "adb899dc-8c2b-40a5-86ae-a7eae13e08d4",
   "metadata": {},
   "outputs": [],
   "source": [
    "def load_pickle(filename: str):\n",
    "    with open(filename, \"rb\") as f_in:\n",
    "        return pickle.load(f_in)\n"
   ]
  },
  {
   "cell_type": "code",
   "execution_count": 8,
   "id": "0835c018-6b46-4a1c-82a6-acd130c6f92d",
   "metadata": {},
   "outputs": [
    {
     "name": "stdout",
     "output_type": "stream",
     "text": [
      "🏃 View run bemused-moth-681 at: http://127.0.0.1:5000/#/experiments/559611738701900722/runs/f6c2f01c41b94e3088ad3ef28cb73fd5\n",
      "\n",
      "🧪 View experiment at: http://127.0.0.1:5000/#/experiments/559611738701900722                                          \n",
      "\n",
      "🏃 View run mercurial-calf-266 at: http://127.0.0.1:5000/#/experiments/559611738701900722/runs/ef572dfc3fd746e3b35463ee844ecba9\n",
      "\n",
      "🧪 View experiment at: http://127.0.0.1:5000/#/experiments/559611738701900722                                          \n",
      "\n",
      "🏃 View run resilient-pug-341 at: http://127.0.0.1:5000/#/experiments/559611738701900722/runs/1b95ca55c75641c7847152b57ae2e137\n",
      "\n",
      "🧪 View experiment at: http://127.0.0.1:5000/#/experiments/559611738701900722                                          \n",
      "\n",
      "🏃 View run casual-horse-935 at: http://127.0.0.1:5000/#/experiments/559611738701900722/runs/f1c87bbfc21541e5b15bedf850e4c05d\n",
      "\n",
      "🧪 View experiment at: http://127.0.0.1:5000/#/experiments/559611738701900722                                          \n",
      "\n",
      "🏃 View run gregarious-doe-122 at: http://127.0.0.1:5000/#/experiments/559611738701900722/runs/64b0d39544c6425797d7265c032d8b1c\n",
      "\n",
      "🧪 View experiment at: http://127.0.0.1:5000/#/experiments/559611738701900722                                          \n",
      "\n",
      "🏃 View run peaceful-flea-316 at: http://127.0.0.1:5000/#/experiments/559611738701900722/runs/94e1b4a088234c538595256cb642094d\n",
      "\n",
      "🧪 View experiment at: http://127.0.0.1:5000/#/experiments/559611738701900722                                          \n",
      "\n",
      "🏃 View run auspicious-roo-368 at: http://127.0.0.1:5000/#/experiments/559611738701900722/runs/aa8e472746414a8c9626ac67712f096c\n",
      "\n",
      "🧪 View experiment at: http://127.0.0.1:5000/#/experiments/559611738701900722                                          \n",
      "\n",
      "🏃 View run adventurous-shad-154 at: http://127.0.0.1:5000/#/experiments/559611738701900722/runs/fbaf43ee73f046c099b94a7dac222d22\n",
      "\n",
      "🧪 View experiment at: http://127.0.0.1:5000/#/experiments/559611738701900722                                          \n",
      "\n",
      "🏃 View run fearless-snake-533 at: http://127.0.0.1:5000/#/experiments/559611738701900722/runs/e694e5ec196c4476815d41e159e29773\n",
      "\n",
      "🧪 View experiment at: http://127.0.0.1:5000/#/experiments/559611738701900722                                          \n",
      "\n",
      "🏃 View run exultant-loon-258 at: http://127.0.0.1:5000/#/experiments/559611738701900722/runs/5a4bda06f638496d8126af2e9373ec11\n",
      "\n",
      "🧪 View experiment at: http://127.0.0.1:5000/#/experiments/559611738701900722                                          \n",
      "\n",
      "🏃 View run zealous-colt-164 at: http://127.0.0.1:5000/#/experiments/559611738701900722/runs/a20795522749454984d59bed021b5356\n",
      "\n",
      "🧪 View experiment at: http://127.0.0.1:5000/#/experiments/559611738701900722                                          \n",
      "\n",
      "🏃 View run monumental-panda-649 at: http://127.0.0.1:5000/#/experiments/559611738701900722/runs/1bd64537cea7437fa8051dd1c3f5d6ce\n",
      "\n",
      "🧪 View experiment at: http://127.0.0.1:5000/#/experiments/559611738701900722                                          \n",
      "\n",
      "🏃 View run sincere-auk-660 at: http://127.0.0.1:5000/#/experiments/559611738701900722/runs/afa80e9b63c0426b9778242c5dc3e740\n",
      "\n",
      "🧪 View experiment at: http://127.0.0.1:5000/#/experiments/559611738701900722                                          \n",
      "\n",
      "🏃 View run skittish-gnu-761 at: http://127.0.0.1:5000/#/experiments/559611738701900722/runs/9dd3521f13f64e029f2e3c5b12ef31ef\n",
      "\n",
      "🧪 View experiment at: http://127.0.0.1:5000/#/experiments/559611738701900722                                          \n",
      "\n",
      "🏃 View run dashing-skink-276 at: http://127.0.0.1:5000/#/experiments/559611738701900722/runs/34e385de11554d2ca0e1ca4e24d86feb\n",
      "\n",
      "🧪 View experiment at: http://127.0.0.1:5000/#/experiments/559611738701900722                                          \n",
      "\n",
      "100%|█████████████████████████████████████████████████| 15/15 [02:06<00:00,  8.41s/trial, best loss: 5.335419588556921]\n"
     ]
    }
   ],
   "source": [
    "def run_optimization(data_path: str = \"./output\", num_trials: int = 15):\n",
    "    X_train, y_train = load_pickle(os.path.join(data_path, \"train.pkl\"))\n",
    "    X_val,   y_val   = load_pickle(os.path.join(data_path, \"val.pkl\"))\n",
    "\n",
    "    def objective(params):\n",
    "        with mlflow.start_run():\n",
    "            mlflow.log_params(params)\n",
    "\n",
    "            rf = RandomForestRegressor(**params)\n",
    "            rf.fit(X_train, y_train)\n",
    "            y_pred = rf.predict(X_val)\n",
    "\n",
    "            mse  = mean_squared_error(y_val, y_pred)\n",
    "\n",
    "            rmse = float(np.sqrt(mse))\n",
    "            mlflow.log_metric(\"rmse\", rmse)\n",
    "\n",
    "            return {'loss': rmse, 'status': STATUS_OK}\n",
    "\n",
    "    search_space = {\n",
    "        'max_depth':        scope.int(hp.quniform('max_depth', 1, 20, 1)),\n",
    "        'n_estimators':     scope.int(hp.quniform('n_estimators', 10, 50, 1)),\n",
    "        'min_samples_split':scope.int(hp.quniform('min_samples_split', 2, 10, 1)),\n",
    "        'min_samples_leaf': scope.int(hp.quniform('min_samples_leaf', 1, 4, 1)),\n",
    "        'random_state':     42\n",
    "    }\n",
    "    rstate = np.random.default_rng(42)\n",
    "    fmin(fn=objective,\n",
    "         space=search_space,\n",
    "         algo=tpe.suggest,\n",
    "         max_evals=num_trials,\n",
    "         trials=Trials(),\n",
    "         rstate=rstate)\n",
    "\n",
    "if __name__ == '__main__':\n",
    "    run_optimization()\n"
   ]
  },
  {
   "cell_type": "code",
   "execution_count": null,
   "id": "b19b221f-3614-4f78-8fed-2356264fe6e5",
   "metadata": {},
   "outputs": [],
   "source": []
  }
 ],
 "metadata": {
  "kernelspec": {
   "display_name": "Python 3 (ipykernel)",
   "language": "python",
   "name": "python3"
  },
  "language_info": {
   "codemirror_mode": {
    "name": "ipython",
    "version": 3
   },
   "file_extension": ".py",
   "mimetype": "text/x-python",
   "name": "python",
   "nbconvert_exporter": "python",
   "pygments_lexer": "ipython3",
   "version": "3.12.7"
  }
 },
 "nbformat": 4,
 "nbformat_minor": 5
}
