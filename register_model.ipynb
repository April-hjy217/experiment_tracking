{
 "cells": [
  {
   "cell_type": "code",
   "execution_count": 7,
   "id": "742de711-a086-4ce0-8100-28e4d6fb0825",
   "metadata": {},
   "outputs": [],
   "source": [
    " import os\n",
    " import pickle\n",
    " import click\n",
    " import mlflow\n",
    "import numpy as np"
   ]
  },
  {
   "cell_type": "code",
   "execution_count": 3,
   "id": "aa4e7e55-bc69-4774-b442-51891d0417d8",
   "metadata": {},
   "outputs": [],
   "source": [
    " from mlflow.entities import ViewType\n",
    " from mlflow.tracking import MlflowClient\n",
    " from sklearn.ensemble import RandomForestRegressor\n",
    " from sklearn.metrics import root_mean_squared_error\n",
    "from sklearn.metrics import mean_squared_error"
   ]
  },
  {
   "cell_type": "code",
   "execution_count": 4,
   "id": "b6794332-1a56-43a8-a548-1b32e3814681",
   "metadata": {},
   "outputs": [],
   "source": [
    "HPO_EXPERIMENT_NAME = \"random-forest-hyperopt\"\n",
    "EXPERIMENT_NAME    = \"random-forest-best-models\"\n",
    "RF_PARAMS          = ['max_depth', 'n_estimators', 'min_samples_split', 'min_samples_leaf', 'random_state']\n"
   ]
  },
  {
   "cell_type": "code",
   "execution_count": 5,
   "id": "e37fc015-0052-467d-882a-e272a153368d",
   "metadata": {},
   "outputs": [
    {
     "name": "stderr",
     "output_type": "stream",
     "text": [
      "2025/06/22 23:04:49 INFO mlflow.tracking.fluent: Experiment with name 'random-forest-best-models' does not exist. Creating a new experiment.\n"
     ]
    }
   ],
   "source": [
    "mlflow.set_tracking_uri(\"http://127.0.0.1:5000\")\n",
    "mlflow.set_experiment(EXPERIMENT_NAME)\n",
    "mlflow.sklearn.autolog()\n"
   ]
  },
  {
   "cell_type": "code",
   "execution_count": 6,
   "id": "a2fa6205-6a46-42f2-974e-22c3339a0ce8",
   "metadata": {},
   "outputs": [],
   "source": [
    "def load_pickle(filename):\n",
    "    with open(filename, \"rb\") as f_in:\n",
    "        return pickle.load(f_in)\n"
   ]
  },
  {
   "cell_type": "code",
   "execution_count": 12,
   "id": "bf224630-024c-4c04-bc14-e9871abdfddb",
   "metadata": {},
   "outputs": [],
   "source": [
    "def train_and_log_model(data_path, params):\n",
    "    X_train, y_train = load_pickle(os.path.join(data_path, \"train.pkl\"))\n",
    "    X_val,   y_val   = load_pickle(os.path.join(data_path, \"val.pkl\"))\n",
    "    X_test,  y_test  = load_pickle(os.path.join(data_path, \"test.pkl\"))\n",
    "\n",
    "    with mlflow.start_run():\n",
    "        new_params = {}\n",
    "        for param in RF_PARAMS:\n",
    "            new_params[param] = int(params[param])\n",
    "\n",
    "        rf = RandomForestRegressor(**new_params)\n",
    "        rf.fit(X_train, y_train)\n",
    "        # Evaluate model on the validation and test sets\n",
    "        mse_val = mean_squared_error(y_val, rf.predict(X_val))\n",
    "        val_rmse = float(np.sqrt(mse_val))\n",
    "        mlflow.log_metric(\"val_rmse\", val_rmse)\n",
    "        mse_test = mean_squared_error(y_test, rf.predict(X_test))\n",
    "        test_rmse = float(np.sqrt(mse_val))\n",
    "        mlflow.log_metric(\"test_rmse\", test_rmse)\n"
   ]
  },
  {
   "cell_type": "code",
   "execution_count": 13,
   "id": "8787cb5b-98b8-4394-8373-744709a53de4",
   "metadata": {},
   "outputs": [
    {
     "name": "stdout",
     "output_type": "stream",
     "text": [
      "🏃 View run stately-squid-534 at: http://127.0.0.1:5000/#/experiments/802108489478494946/runs/fcdf1543ff034fd1924697a3681005f8\n",
      "🧪 View experiment at: http://127.0.0.1:5000/#/experiments/802108489478494946\n",
      "🏃 View run exultant-jay-24 at: http://127.0.0.1:5000/#/experiments/802108489478494946/runs/d5b1a5c3108946a3bf5f55484d6ec695\n",
      "🧪 View experiment at: http://127.0.0.1:5000/#/experiments/802108489478494946\n",
      "🏃 View run brawny-croc-423 at: http://127.0.0.1:5000/#/experiments/802108489478494946/runs/64e169d7996c4635a3e5114c778b32e8\n",
      "🧪 View experiment at: http://127.0.0.1:5000/#/experiments/802108489478494946\n",
      "🏃 View run flawless-gull-817 at: http://127.0.0.1:5000/#/experiments/802108489478494946/runs/8cfa324bbddf4a62bae848e99a764a00\n",
      "🧪 View experiment at: http://127.0.0.1:5000/#/experiments/802108489478494946\n",
      "🏃 View run blushing-boar-361 at: http://127.0.0.1:5000/#/experiments/802108489478494946/runs/a3cd7f13b13b481a82c1282499e22f28\n",
      "🧪 View experiment at: http://127.0.0.1:5000/#/experiments/802108489478494946\n"
     ]
    },
    {
     "name": "stderr",
     "output_type": "stream",
     "text": [
      "Successfully registered model 'RandomForestTaxi'.\n",
      "2025/06/22 23:29:30 WARNING mlflow.tracking._model_registry.fluent: Run with id fcdf1543ff034fd1924697a3681005f8 has no artifacts at artifact path 'model', registering model based on models:/m-fcfaa1c7bbb04a32bc7afe30a9a03630 instead\n",
      "2025/06/22 23:29:30 INFO mlflow.store.model_registry.abstract_store: Waiting up to 300 seconds for model version to finish creation. Model name: RandomForestTaxi, version 1\n"
     ]
    },
    {
     "name": "stdout",
     "output_type": "stream",
     "text": [
      "✅ Registered model 'RandomForestTaxi' from run fcdf1543ff034fd1924697a3681005f8 with test_rmse=5.335419588556921\n"
     ]
    },
    {
     "name": "stderr",
     "output_type": "stream",
     "text": [
      "Created version '1' of model 'RandomForestTaxi'.\n"
     ]
    }
   ],
   "source": [
    "def run_register_model(data_path: str = \"./output\", top_n: int = 5):\n",
    "\n",
    "    client = MlflowClient()\n",
    "\n",
    "    # Retrieve the top_n model runs and log the models\n",
    "    experiment = client.get_experiment_by_name(HPO_EXPERIMENT_NAME)\n",
    "    runs = client.search_runs(\n",
    "        experiment_ids=experiment.experiment_id,\n",
    "        run_view_type=ViewType.ACTIVE_ONLY,\n",
    "        max_results=top_n,\n",
    "        order_by=[\"metrics.rmse ASC\"]\n",
    "    )\n",
    "    for run in runs:\n",
    "        train_and_log_model(data_path=data_path, params=run.data.params)\n",
    "        \n",
    "    # Select the model with the lowest test RMSE\n",
    "    exp_best = client.get_experiment_by_name(EXPERIMENT_NAME)\n",
    "    best_runs = client.search_runs(\n",
    "        experiment_ids=[exp_best.experiment_id],\n",
    "        run_view_type=ViewType.ACTIVE_ONLY,\n",
    "        max_results=1,\n",
    "        order_by=[\"metrics.test_rmse ASC\"]\n",
    "    )\n",
    "    best_run = best_runs[0]\n",
    "    \n",
    "\n",
    "    # Register the best model\n",
    "    # mlflow.register_model( ... )\n",
    "    model_uri = f\"runs:/{best_run.info.run_id}/model\"\n",
    "    model_name = \"RandomForestTaxi\"\n",
    "    mlflow.register_model(model_uri=model_uri, name=model_name)\n",
    "\n",
    "    print(\n",
    "        f\"✅ Registered model '{model_name}' from run {best_run.info.run_id} \"\n",
    "        f\"with test_rmse={best_run.data.metrics['test_rmse']}\"\n",
    "    )\n",
    "\n",
    "if __name__ == '__main__':\n",
    "    run_register_model()"
   ]
  },
  {
   "cell_type": "code",
   "execution_count": null,
   "id": "7bf93b9d-0e06-49f1-b37d-5ac604d2630f",
   "metadata": {},
   "outputs": [],
   "source": []
  }
 ],
 "metadata": {
  "kernelspec": {
   "display_name": "Python 3 (ipykernel)",
   "language": "python",
   "name": "python3"
  },
  "language_info": {
   "codemirror_mode": {
    "name": "ipython",
    "version": 3
   },
   "file_extension": ".py",
   "mimetype": "text/x-python",
   "name": "python",
   "nbconvert_exporter": "python",
   "pygments_lexer": "ipython3",
   "version": "3.12.7"
  }
 },
 "nbformat": 4,
 "nbformat_minor": 5
}
